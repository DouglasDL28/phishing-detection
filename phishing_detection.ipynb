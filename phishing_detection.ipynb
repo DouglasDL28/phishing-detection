{
 "cells": [
  {
   "cell_type": "markdown",
   "metadata": {},
   "source": [
    "Universidad del Valle de Guatemala\n",
    "\n",
    "Security Data Science\n",
    "\n",
    "Augusto Alonso\n",
    "\n",
    "Douglas de León - 18037\n",
    "\n",
    "# Laboratorio 1: Phishing Detection"
   ]
  },
  {
   "cell_type": "markdown",
   "metadata": {},
   "source": [
    "# Get the necessary libraries"
   ]
  },
  {
   "cell_type": "code",
   "execution_count": 18,
   "metadata": {},
   "outputs": [
    {
     "name": "stdout",
     "output_type": "stream",
     "text": [
      "\u001b[33mDEPRECATION: Configuring installation scheme with distutils config files is deprecated and will no longer work in the near future. If you are using a Homebrew or Linuxbrew Python, please see discussion at https://github.com/Homebrew/homebrew-core/issues/76621\u001b[0m\n",
      "Requirement already satisfied: pandas-profiling in /Users/augustoalonso/Library/Python/3.9/lib/python/site-packages (3.0.0)\n",
      "Requirement already satisfied: jinja2>=2.11.1 in /usr/local/lib/python3.9/site-packages (from pandas-profiling) (3.0.1)\n",
      "Requirement already satisfied: phik>=0.11.1 in /Users/augustoalonso/Library/Python/3.9/lib/python/site-packages (from pandas-profiling) (0.12.0)\n",
      "Requirement already satisfied: scipy>=1.4.1 in /usr/local/lib/python3.9/site-packages (from pandas-profiling) (1.7.0)\n",
      "Requirement already satisfied: tqdm>=4.48.2 in /Users/augustoalonso/Library/Python/3.9/lib/python/site-packages (from pandas-profiling) (4.61.2)\n",
      "Requirement already satisfied: tangled-up-in-unicode==0.1.0 in /usr/local/lib/python3.9/site-packages (from pandas-profiling) (0.1.0)\n",
      "Requirement already satisfied: numpy>=1.16.0 in /usr/local/lib/python3.9/site-packages (from pandas-profiling) (1.19.5)\n",
      "Requirement already satisfied: requests>=2.24.0 in /usr/local/lib/python3.9/site-packages (from pandas-profiling) (2.26.0)\n",
      "Requirement already satisfied: seaborn>=0.10.1 in /usr/local/lib/python3.9/site-packages (from pandas-profiling) (0.11.1)\n",
      "Requirement already satisfied: PyYAML>=5.0.0 in /Users/augustoalonso/Library/Python/3.9/lib/python/site-packages (from pandas-profiling) (5.4.1)\n",
      "Requirement already satisfied: missingno>=0.4.2 in /Users/augustoalonso/Library/Python/3.9/lib/python/site-packages (from pandas-profiling) (0.5.0)\n",
      "Requirement already satisfied: htmlmin>=0.1.12 in /Users/augustoalonso/Library/Python/3.9/lib/python/site-packages (from pandas-profiling) (0.1.12)\n",
      "Requirement already satisfied: matplotlib>=3.2.0 in /usr/local/lib/python3.9/site-packages (from pandas-profiling) (3.4.2)\n",
      "Requirement already satisfied: pandas!=1.0.0,!=1.0.1,!=1.0.2,!=1.1.0,>=0.25.3 in /usr/local/lib/python3.9/site-packages (from pandas-profiling) (1.3.0)\n",
      "Requirement already satisfied: visions[type_image_path]==0.7.1 in /usr/local/lib/python3.9/site-packages (from pandas-profiling) (0.7.1)\n",
      "Requirement already satisfied: pydantic>=1.8.1 in /Users/augustoalonso/Library/Python/3.9/lib/python/site-packages (from pandas-profiling) (1.8.2)\n",
      "Requirement already satisfied: joblib in /usr/local/lib/python3.9/site-packages (from pandas-profiling) (1.0.1)\n",
      "Requirement already satisfied: networkx>=2.4 in /usr/local/lib/python3.9/site-packages (from visions[type_image_path]==0.7.1->pandas-profiling) (2.6.2)\n",
      "Requirement already satisfied: multimethod==1.4 in /usr/local/lib/python3.9/site-packages (from visions[type_image_path]==0.7.1->pandas-profiling) (1.4)\n",
      "Requirement already satisfied: attrs>=19.3.0 in /usr/local/lib/python3.9/site-packages (from visions[type_image_path]==0.7.1->pandas-profiling) (21.2.0)\n",
      "Requirement already satisfied: bottleneck in /usr/local/lib/python3.9/site-packages (from visions[type_image_path]==0.7.1->pandas-profiling) (1.3.2)\n",
      "Requirement already satisfied: imagehash in /usr/local/lib/python3.9/site-packages (from visions[type_image_path]==0.7.1->pandas-profiling) (4.2.1)\n",
      "Requirement already satisfied: Pillow in /usr/local/lib/python3.9/site-packages (from visions[type_image_path]==0.7.1->pandas-profiling) (8.3.1)\n",
      "Requirement already satisfied: MarkupSafe>=2.0 in /usr/local/lib/python3.9/site-packages (from jinja2>=2.11.1->pandas-profiling) (2.0.1)\n",
      "Requirement already satisfied: pyparsing>=2.2.1 in /usr/local/lib/python3.9/site-packages (from matplotlib>=3.2.0->pandas-profiling) (2.4.7)\n",
      "Requirement already satisfied: python-dateutil>=2.7 in /usr/local/lib/python3.9/site-packages (from matplotlib>=3.2.0->pandas-profiling) (2.8.2)\n",
      "Requirement already satisfied: kiwisolver>=1.0.1 in /usr/local/lib/python3.9/site-packages (from matplotlib>=3.2.0->pandas-profiling) (1.3.1)\n",
      "Requirement already satisfied: cycler>=0.10 in /usr/local/lib/python3.9/site-packages (from matplotlib>=3.2.0->pandas-profiling) (0.10.0)\n",
      "Requirement already satisfied: pytz>=2017.3 in /usr/local/lib/python3.9/site-packages (from pandas!=1.0.0,!=1.0.1,!=1.0.2,!=1.1.0,>=0.25.3->pandas-profiling) (2021.1)\n",
      "Requirement already satisfied: typing-extensions>=3.7.4.3 in /usr/local/lib/python3.9/site-packages (from pydantic>=1.8.1->pandas-profiling) (3.10.0.0)\n",
      "Requirement already satisfied: certifi>=2017.4.17 in /usr/local/lib/python3.9/site-packages (from requests>=2.24.0->pandas-profiling) (2021.5.30)\n",
      "Requirement already satisfied: charset-normalizer~=2.0.0 in /usr/local/lib/python3.9/site-packages (from requests>=2.24.0->pandas-profiling) (2.0.3)\n",
      "Requirement already satisfied: idna<4,>=2.5 in /usr/local/lib/python3.9/site-packages (from requests>=2.24.0->pandas-profiling) (3.2)\n",
      "Requirement already satisfied: urllib3<1.27,>=1.21.1 in /usr/local/lib/python3.9/site-packages (from requests>=2.24.0->pandas-profiling) (1.26.6)\n",
      "Requirement already satisfied: six in /usr/local/lib/python3.9/site-packages (from cycler>=0.10->matplotlib>=3.2.0->pandas-profiling) (1.16.0)\n",
      "Requirement already satisfied: PyWavelets in /usr/local/lib/python3.9/site-packages (from imagehash->visions[type_image_path]==0.7.1->pandas-profiling) (1.1.1)\n"
     ]
    }
   ],
   "source": [
    "import sys\n",
    "!{sys.executable} -m pip install pandas-profiling"
   ]
  },
  {
   "cell_type": "code",
   "execution_count": 129,
   "metadata": {},
   "outputs": [],
   "source": [
    "import pandas as pd\n",
    "import features_utils as fu\n",
    "from pandas_profiling import ProfileReport\n",
    "import numpy as np\n",
    "from sklearn.model_selection import train_test_split\n",
    "from sklearn.ensemble import RandomForestClassifier\n",
    "from sklearn.metrics import confusion_matrix, precision_score, recall_score, f1_score"
   ]
  },
  {
   "cell_type": "code",
   "execution_count": 53,
   "metadata": {},
   "outputs": [],
   "source": [
    "dataset = pd.read_csv(\"./dataset_pishing.csv\")"
   ]
  },
  {
   "cell_type": "markdown",
   "metadata": {},
   "source": [
    "# Pandas Profiling"
   ]
  },
  {
   "cell_type": "code",
   "execution_count": 30,
   "metadata": {},
   "outputs": [
    {
     "data": {
      "application/vnd.jupyter.widget-view+json": {
       "model_id": "1f5bd550084547ed8578c4b5838bcc57",
       "version_major": 2,
       "version_minor": 0
      },
      "text/plain": [
       "Summarize dataset:   0%|          | 0/80 [00:00<?, ?it/s]"
      ]
     },
     "metadata": {},
     "output_type": "display_data"
    },
    {
     "name": "stderr",
     "output_type": "stream",
     "text": [
      "/Users/augustoalonso/Library/Python/3.9/lib/python/site-packages/missingno/missingno.py:250: UserWarning: FixedFormatter should only be used together with FixedLocator\n",
      "  ax1.set_xticklabels(ax1.get_xticklabels(), rotation=45, ha='right', fontsize=fontsize)\n",
      "/Users/augustoalonso/Library/Python/3.9/lib/python/site-packages/pandas_profiling/model/summary.py:194: UserWarning: There was an attempt to generate the bar missing values diagrams, but this failed.\n",
      "    To hide this warning, disable the calculation\n",
      "    (using `df.profile_report(missing_diagrams={\"bar\": False}`)\n",
      "    If this is problematic for your use case, please report this as an issue:\n",
      "    https://github.com/pandas-profiling/pandas-profiling/issues\n",
      "    (include the error message: 'The number of FixedLocator locations (7), usually from a call to set_ticks, does not match the number of ticklabels (67).')\n",
      "  warnings.warn(\n"
     ]
    },
    {
     "data": {
      "application/vnd.jupyter.widget-view+json": {
       "model_id": "f993c2d51305434690f42f8825d6f141",
       "version_major": 2,
       "version_minor": 0
      },
      "text/plain": [
       "Generate report structure:   0%|          | 0/1 [00:00<?, ?it/s]"
      ]
     },
     "metadata": {},
     "output_type": "display_data"
    },
    {
     "data": {
      "application/vnd.jupyter.widget-view+json": {
       "model_id": "e414b674919c485f99c71fb3c8e73437",
       "version_major": 2,
       "version_minor": 0
      },
      "text/plain": [
       "Render HTML:   0%|          | 0/1 [00:00<?, ?it/s]"
      ]
     },
     "metadata": {},
     "output_type": "display_data"
    },
    {
     "data": {
      "application/vnd.jupyter.widget-view+json": {
       "model_id": "91099af14a9646b5a16204a7ade7f270",
       "version_major": 2,
       "version_minor": 0
      },
      "text/plain": [
       "Export report to file:   0%|          | 0/1 [00:00<?, ?it/s]"
      ]
     },
     "metadata": {},
     "output_type": "display_data"
    }
   ],
   "source": [
    "profile = ProfileReport(dataset, title=\"Phishing dataset Profiling Report\")\n",
    "profile.to_file(\"initial_report.html\")"
   ]
  },
  {
   "cell_type": "markdown",
   "metadata": {},
   "source": [
    "## Observaciones"
   ]
  },
  {
   "cell_type": "code",
   "execution_count": 54,
   "metadata": {},
   "outputs": [
    {
     "data": {
      "text/html": [
       "<div>\n",
       "<style scoped>\n",
       "    .dataframe tbody tr th:only-of-type {\n",
       "        vertical-align: middle;\n",
       "    }\n",
       "\n",
       "    .dataframe tbody tr th {\n",
       "        vertical-align: top;\n",
       "    }\n",
       "\n",
       "    .dataframe thead th {\n",
       "        text-align: right;\n",
       "    }\n",
       "</style>\n",
       "<table border=\"1\" class=\"dataframe\">\n",
       "  <thead>\n",
       "    <tr style=\"text-align: right;\">\n",
       "      <th></th>\n",
       "      <th>url</th>\n",
       "      <th>ip</th>\n",
       "      <th>nb_www</th>\n",
       "      <th>nb_com</th>\n",
       "      <th>nb_dslash</th>\n",
       "      <th>http_in_path</th>\n",
       "      <th>punycode</th>\n",
       "      <th>port</th>\n",
       "      <th>tld_in_path</th>\n",
       "      <th>tld_in_subdomain</th>\n",
       "      <th>abnormal_subdomain</th>\n",
       "      <th>nb_subdomains</th>\n",
       "      <th>prefix_suffix</th>\n",
       "      <th>random_domain</th>\n",
       "      <th>shortening_service</th>\n",
       "      <th>path_extension</th>\n",
       "      <th>nb_redirection</th>\n",
       "      <th>nb_external_redirection</th>\n",
       "      <th>length_words_raw</th>\n",
       "      <th>char_repeat</th>\n",
       "      <th>shortest_words_raw</th>\n",
       "      <th>shortest_word_host</th>\n",
       "      <th>shortest_word_path</th>\n",
       "      <th>longest_words_raw</th>\n",
       "      <th>longest_word_host</th>\n",
       "      <th>longest_word_path</th>\n",
       "      <th>avg_words_raw</th>\n",
       "      <th>avg_word_host</th>\n",
       "      <th>avg_word_path</th>\n",
       "      <th>phish_hints</th>\n",
       "      <th>domain_in_brand</th>\n",
       "      <th>brand_in_subdomain</th>\n",
       "      <th>brand_in_path</th>\n",
       "      <th>suspecious_tld</th>\n",
       "      <th>statistical_report</th>\n",
       "      <th>nb_hyperlinks</th>\n",
       "      <th>ratio_intHyperlinks</th>\n",
       "      <th>ratio_extHyperlinks</th>\n",
       "      <th>ratio_nullHyperlinks</th>\n",
       "      <th>nb_extCSS</th>\n",
       "      <th>ratio_intRedirection</th>\n",
       "      <th>ratio_extRedirection</th>\n",
       "      <th>ratio_intErrors</th>\n",
       "      <th>ratio_extErrors</th>\n",
       "      <th>login_form</th>\n",
       "      <th>external_favicon</th>\n",
       "      <th>links_in_tags</th>\n",
       "      <th>submit_email</th>\n",
       "      <th>ratio_intMedia</th>\n",
       "      <th>ratio_extMedia</th>\n",
       "      <th>sfh</th>\n",
       "      <th>iframe</th>\n",
       "      <th>popup_window</th>\n",
       "      <th>safe_anchor</th>\n",
       "      <th>onmouseover</th>\n",
       "      <th>right_clic</th>\n",
       "      <th>empty_title</th>\n",
       "      <th>domain_in_title</th>\n",
       "      <th>domain_with_copyright</th>\n",
       "      <th>whois_registered_domain</th>\n",
       "      <th>domain_registration_length</th>\n",
       "      <th>domain_age</th>\n",
       "      <th>web_traffic</th>\n",
       "      <th>dns_record</th>\n",
       "      <th>google_index</th>\n",
       "      <th>page_rank</th>\n",
       "      <th>status</th>\n",
       "    </tr>\n",
       "  </thead>\n",
       "  <tbody>\n",
       "    <tr>\n",
       "      <th>0</th>\n",
       "      <td>http://www.crestonwood.com/router.php</td>\n",
       "      <td>0</td>\n",
       "      <td>1</td>\n",
       "      <td>0</td>\n",
       "      <td>0</td>\n",
       "      <td>0</td>\n",
       "      <td>0</td>\n",
       "      <td>0</td>\n",
       "      <td>0</td>\n",
       "      <td>0</td>\n",
       "      <td>0</td>\n",
       "      <td>3</td>\n",
       "      <td>0</td>\n",
       "      <td>0</td>\n",
       "      <td>0</td>\n",
       "      <td>0</td>\n",
       "      <td>0</td>\n",
       "      <td>0</td>\n",
       "      <td>4</td>\n",
       "      <td>4</td>\n",
       "      <td>3</td>\n",
       "      <td>3</td>\n",
       "      <td>3</td>\n",
       "      <td>11</td>\n",
       "      <td>11</td>\n",
       "      <td>6</td>\n",
       "      <td>5.750000</td>\n",
       "      <td>7.0</td>\n",
       "      <td>4.500000</td>\n",
       "      <td>0</td>\n",
       "      <td>0</td>\n",
       "      <td>0</td>\n",
       "      <td>0</td>\n",
       "      <td>0</td>\n",
       "      <td>0</td>\n",
       "      <td>17</td>\n",
       "      <td>0.529412</td>\n",
       "      <td>0.470588</td>\n",
       "      <td>0</td>\n",
       "      <td>0</td>\n",
       "      <td>0</td>\n",
       "      <td>0.875000</td>\n",
       "      <td>0</td>\n",
       "      <td>0.500000</td>\n",
       "      <td>0</td>\n",
       "      <td>0</td>\n",
       "      <td>80.000000</td>\n",
       "      <td>0</td>\n",
       "      <td>100.000000</td>\n",
       "      <td>0.000000</td>\n",
       "      <td>0</td>\n",
       "      <td>0</td>\n",
       "      <td>0</td>\n",
       "      <td>0.0</td>\n",
       "      <td>0</td>\n",
       "      <td>0</td>\n",
       "      <td>0</td>\n",
       "      <td>0</td>\n",
       "      <td>1</td>\n",
       "      <td>0</td>\n",
       "      <td>45</td>\n",
       "      <td>-1</td>\n",
       "      <td>0</td>\n",
       "      <td>1</td>\n",
       "      <td>1</td>\n",
       "      <td>4</td>\n",
       "      <td>legitimate</td>\n",
       "    </tr>\n",
       "    <tr>\n",
       "      <th>1</th>\n",
       "      <td>http://shadetreetechnology.com/V4/validation/a...</td>\n",
       "      <td>1</td>\n",
       "      <td>0</td>\n",
       "      <td>0</td>\n",
       "      <td>0</td>\n",
       "      <td>0</td>\n",
       "      <td>0</td>\n",
       "      <td>0</td>\n",
       "      <td>0</td>\n",
       "      <td>0</td>\n",
       "      <td>0</td>\n",
       "      <td>1</td>\n",
       "      <td>0</td>\n",
       "      <td>0</td>\n",
       "      <td>0</td>\n",
       "      <td>0</td>\n",
       "      <td>1</td>\n",
       "      <td>0</td>\n",
       "      <td>4</td>\n",
       "      <td>4</td>\n",
       "      <td>2</td>\n",
       "      <td>19</td>\n",
       "      <td>2</td>\n",
       "      <td>32</td>\n",
       "      <td>19</td>\n",
       "      <td>32</td>\n",
       "      <td>15.750000</td>\n",
       "      <td>19.0</td>\n",
       "      <td>14.666667</td>\n",
       "      <td>0</td>\n",
       "      <td>0</td>\n",
       "      <td>0</td>\n",
       "      <td>0</td>\n",
       "      <td>0</td>\n",
       "      <td>0</td>\n",
       "      <td>30</td>\n",
       "      <td>0.966667</td>\n",
       "      <td>0.033333</td>\n",
       "      <td>0</td>\n",
       "      <td>0</td>\n",
       "      <td>0</td>\n",
       "      <td>0.000000</td>\n",
       "      <td>0</td>\n",
       "      <td>0.000000</td>\n",
       "      <td>0</td>\n",
       "      <td>0</td>\n",
       "      <td>100.000000</td>\n",
       "      <td>0</td>\n",
       "      <td>80.000000</td>\n",
       "      <td>20.000000</td>\n",
       "      <td>0</td>\n",
       "      <td>0</td>\n",
       "      <td>0</td>\n",
       "      <td>100.0</td>\n",
       "      <td>0</td>\n",
       "      <td>0</td>\n",
       "      <td>0</td>\n",
       "      <td>1</td>\n",
       "      <td>0</td>\n",
       "      <td>0</td>\n",
       "      <td>77</td>\n",
       "      <td>5767</td>\n",
       "      <td>0</td>\n",
       "      <td>0</td>\n",
       "      <td>1</td>\n",
       "      <td>2</td>\n",
       "      <td>phishing</td>\n",
       "    </tr>\n",
       "    <tr>\n",
       "      <th>2</th>\n",
       "      <td>https://support-appleld.com.secureupdate.duila...</td>\n",
       "      <td>1</td>\n",
       "      <td>0</td>\n",
       "      <td>1</td>\n",
       "      <td>0</td>\n",
       "      <td>0</td>\n",
       "      <td>0</td>\n",
       "      <td>0</td>\n",
       "      <td>0</td>\n",
       "      <td>1</td>\n",
       "      <td>0</td>\n",
       "      <td>3</td>\n",
       "      <td>1</td>\n",
       "      <td>0</td>\n",
       "      <td>0</td>\n",
       "      <td>0</td>\n",
       "      <td>1</td>\n",
       "      <td>0</td>\n",
       "      <td>12</td>\n",
       "      <td>2</td>\n",
       "      <td>2</td>\n",
       "      <td>3</td>\n",
       "      <td>2</td>\n",
       "      <td>17</td>\n",
       "      <td>13</td>\n",
       "      <td>17</td>\n",
       "      <td>8.250000</td>\n",
       "      <td>8.4</td>\n",
       "      <td>8.142857</td>\n",
       "      <td>0</td>\n",
       "      <td>0</td>\n",
       "      <td>0</td>\n",
       "      <td>0</td>\n",
       "      <td>0</td>\n",
       "      <td>0</td>\n",
       "      <td>4</td>\n",
       "      <td>1.000000</td>\n",
       "      <td>0.000000</td>\n",
       "      <td>0</td>\n",
       "      <td>0</td>\n",
       "      <td>0</td>\n",
       "      <td>0.000000</td>\n",
       "      <td>0</td>\n",
       "      <td>0.000000</td>\n",
       "      <td>0</td>\n",
       "      <td>0</td>\n",
       "      <td>100.000000</td>\n",
       "      <td>0</td>\n",
       "      <td>0.000000</td>\n",
       "      <td>0.000000</td>\n",
       "      <td>0</td>\n",
       "      <td>0</td>\n",
       "      <td>0</td>\n",
       "      <td>100.0</td>\n",
       "      <td>0</td>\n",
       "      <td>0</td>\n",
       "      <td>0</td>\n",
       "      <td>1</td>\n",
       "      <td>0</td>\n",
       "      <td>0</td>\n",
       "      <td>14</td>\n",
       "      <td>4004</td>\n",
       "      <td>5828815</td>\n",
       "      <td>0</td>\n",
       "      <td>1</td>\n",
       "      <td>0</td>\n",
       "      <td>phishing</td>\n",
       "    </tr>\n",
       "    <tr>\n",
       "      <th>3</th>\n",
       "      <td>http://rgipt.ac.in</td>\n",
       "      <td>0</td>\n",
       "      <td>0</td>\n",
       "      <td>0</td>\n",
       "      <td>0</td>\n",
       "      <td>0</td>\n",
       "      <td>0</td>\n",
       "      <td>0</td>\n",
       "      <td>0</td>\n",
       "      <td>0</td>\n",
       "      <td>0</td>\n",
       "      <td>2</td>\n",
       "      <td>0</td>\n",
       "      <td>0</td>\n",
       "      <td>0</td>\n",
       "      <td>0</td>\n",
       "      <td>1</td>\n",
       "      <td>0</td>\n",
       "      <td>1</td>\n",
       "      <td>0</td>\n",
       "      <td>5</td>\n",
       "      <td>5</td>\n",
       "      <td>0</td>\n",
       "      <td>5</td>\n",
       "      <td>5</td>\n",
       "      <td>0</td>\n",
       "      <td>5.000000</td>\n",
       "      <td>5.0</td>\n",
       "      <td>0.000000</td>\n",
       "      <td>0</td>\n",
       "      <td>0</td>\n",
       "      <td>0</td>\n",
       "      <td>0</td>\n",
       "      <td>0</td>\n",
       "      <td>0</td>\n",
       "      <td>149</td>\n",
       "      <td>0.973154</td>\n",
       "      <td>0.026846</td>\n",
       "      <td>0</td>\n",
       "      <td>0</td>\n",
       "      <td>0</td>\n",
       "      <td>0.250000</td>\n",
       "      <td>0</td>\n",
       "      <td>0.250000</td>\n",
       "      <td>0</td>\n",
       "      <td>0</td>\n",
       "      <td>100.000000</td>\n",
       "      <td>0</td>\n",
       "      <td>96.428571</td>\n",
       "      <td>3.571429</td>\n",
       "      <td>0</td>\n",
       "      <td>0</td>\n",
       "      <td>0</td>\n",
       "      <td>62.5</td>\n",
       "      <td>0</td>\n",
       "      <td>0</td>\n",
       "      <td>0</td>\n",
       "      <td>1</td>\n",
       "      <td>0</td>\n",
       "      <td>0</td>\n",
       "      <td>62</td>\n",
       "      <td>-1</td>\n",
       "      <td>107721</td>\n",
       "      <td>0</td>\n",
       "      <td>0</td>\n",
       "      <td>3</td>\n",
       "      <td>legitimate</td>\n",
       "    </tr>\n",
       "    <tr>\n",
       "      <th>4</th>\n",
       "      <td>http://www.iracing.com/tracks/gateway-motorspo...</td>\n",
       "      <td>0</td>\n",
       "      <td>1</td>\n",
       "      <td>0</td>\n",
       "      <td>0</td>\n",
       "      <td>0</td>\n",
       "      <td>0</td>\n",
       "      <td>0</td>\n",
       "      <td>0</td>\n",
       "      <td>0</td>\n",
       "      <td>0</td>\n",
       "      <td>2</td>\n",
       "      <td>0</td>\n",
       "      <td>0</td>\n",
       "      <td>0</td>\n",
       "      <td>0</td>\n",
       "      <td>1</td>\n",
       "      <td>0</td>\n",
       "      <td>6</td>\n",
       "      <td>3</td>\n",
       "      <td>3</td>\n",
       "      <td>3</td>\n",
       "      <td>4</td>\n",
       "      <td>11</td>\n",
       "      <td>7</td>\n",
       "      <td>11</td>\n",
       "      <td>6.333333</td>\n",
       "      <td>5.0</td>\n",
       "      <td>7.000000</td>\n",
       "      <td>0</td>\n",
       "      <td>0</td>\n",
       "      <td>0</td>\n",
       "      <td>0</td>\n",
       "      <td>0</td>\n",
       "      <td>0</td>\n",
       "      <td>102</td>\n",
       "      <td>0.470588</td>\n",
       "      <td>0.529412</td>\n",
       "      <td>0</td>\n",
       "      <td>0</td>\n",
       "      <td>0</td>\n",
       "      <td>0.537037</td>\n",
       "      <td>0</td>\n",
       "      <td>0.018519</td>\n",
       "      <td>1</td>\n",
       "      <td>0</td>\n",
       "      <td>76.470588</td>\n",
       "      <td>0</td>\n",
       "      <td>0.000000</td>\n",
       "      <td>100.000000</td>\n",
       "      <td>0</td>\n",
       "      <td>0</td>\n",
       "      <td>0</td>\n",
       "      <td>0.0</td>\n",
       "      <td>0</td>\n",
       "      <td>0</td>\n",
       "      <td>0</td>\n",
       "      <td>0</td>\n",
       "      <td>1</td>\n",
       "      <td>0</td>\n",
       "      <td>224</td>\n",
       "      <td>8175</td>\n",
       "      <td>8725</td>\n",
       "      <td>0</td>\n",
       "      <td>0</td>\n",
       "      <td>6</td>\n",
       "      <td>legitimate</td>\n",
       "    </tr>\n",
       "  </tbody>\n",
       "</table>\n",
       "</div>"
      ],
      "text/plain": [
       "                                                 url  ip  nb_www  nb_com  \\\n",
       "0              http://www.crestonwood.com/router.php   0       1       0   \n",
       "1  http://shadetreetechnology.com/V4/validation/a...   1       0       0   \n",
       "2  https://support-appleld.com.secureupdate.duila...   1       0       1   \n",
       "3                                 http://rgipt.ac.in   0       0       0   \n",
       "4  http://www.iracing.com/tracks/gateway-motorspo...   0       1       0   \n",
       "\n",
       "   nb_dslash  http_in_path  punycode  port  tld_in_path  tld_in_subdomain  \\\n",
       "0          0             0         0     0            0                 0   \n",
       "1          0             0         0     0            0                 0   \n",
       "2          0             0         0     0            0                 1   \n",
       "3          0             0         0     0            0                 0   \n",
       "4          0             0         0     0            0                 0   \n",
       "\n",
       "   abnormal_subdomain  nb_subdomains  prefix_suffix  random_domain  \\\n",
       "0                   0              3              0              0   \n",
       "1                   0              1              0              0   \n",
       "2                   0              3              1              0   \n",
       "3                   0              2              0              0   \n",
       "4                   0              2              0              0   \n",
       "\n",
       "   shortening_service  path_extension  nb_redirection  \\\n",
       "0                   0               0               0   \n",
       "1                   0               0               1   \n",
       "2                   0               0               1   \n",
       "3                   0               0               1   \n",
       "4                   0               0               1   \n",
       "\n",
       "   nb_external_redirection  length_words_raw  char_repeat  shortest_words_raw  \\\n",
       "0                        0                 4            4                   3   \n",
       "1                        0                 4            4                   2   \n",
       "2                        0                12            2                   2   \n",
       "3                        0                 1            0                   5   \n",
       "4                        0                 6            3                   3   \n",
       "\n",
       "   shortest_word_host  shortest_word_path  longest_words_raw  \\\n",
       "0                   3                   3                 11   \n",
       "1                  19                   2                 32   \n",
       "2                   3                   2                 17   \n",
       "3                   5                   0                  5   \n",
       "4                   3                   4                 11   \n",
       "\n",
       "   longest_word_host  longest_word_path  avg_words_raw  avg_word_host  \\\n",
       "0                 11                  6       5.750000            7.0   \n",
       "1                 19                 32      15.750000           19.0   \n",
       "2                 13                 17       8.250000            8.4   \n",
       "3                  5                  0       5.000000            5.0   \n",
       "4                  7                 11       6.333333            5.0   \n",
       "\n",
       "   avg_word_path  phish_hints  domain_in_brand  brand_in_subdomain  \\\n",
       "0       4.500000            0                0                   0   \n",
       "1      14.666667            0                0                   0   \n",
       "2       8.142857            0                0                   0   \n",
       "3       0.000000            0                0                   0   \n",
       "4       7.000000            0                0                   0   \n",
       "\n",
       "   brand_in_path  suspecious_tld  statistical_report  nb_hyperlinks  \\\n",
       "0              0               0                   0             17   \n",
       "1              0               0                   0             30   \n",
       "2              0               0                   0              4   \n",
       "3              0               0                   0            149   \n",
       "4              0               0                   0            102   \n",
       "\n",
       "   ratio_intHyperlinks  ratio_extHyperlinks  ratio_nullHyperlinks  nb_extCSS  \\\n",
       "0             0.529412             0.470588                     0          0   \n",
       "1             0.966667             0.033333                     0          0   \n",
       "2             1.000000             0.000000                     0          0   \n",
       "3             0.973154             0.026846                     0          0   \n",
       "4             0.470588             0.529412                     0          0   \n",
       "\n",
       "   ratio_intRedirection  ratio_extRedirection  ratio_intErrors  \\\n",
       "0                     0              0.875000                0   \n",
       "1                     0              0.000000                0   \n",
       "2                     0              0.000000                0   \n",
       "3                     0              0.250000                0   \n",
       "4                     0              0.537037                0   \n",
       "\n",
       "   ratio_extErrors  login_form  external_favicon  links_in_tags  submit_email  \\\n",
       "0         0.500000           0                 0      80.000000             0   \n",
       "1         0.000000           0                 0     100.000000             0   \n",
       "2         0.000000           0                 0     100.000000             0   \n",
       "3         0.250000           0                 0     100.000000             0   \n",
       "4         0.018519           1                 0      76.470588             0   \n",
       "\n",
       "   ratio_intMedia  ratio_extMedia  sfh  iframe  popup_window  safe_anchor  \\\n",
       "0      100.000000        0.000000    0       0             0          0.0   \n",
       "1       80.000000       20.000000    0       0             0        100.0   \n",
       "2        0.000000        0.000000    0       0             0        100.0   \n",
       "3       96.428571        3.571429    0       0             0         62.5   \n",
       "4        0.000000      100.000000    0       0             0          0.0   \n",
       "\n",
       "   onmouseover  right_clic  empty_title  domain_in_title  \\\n",
       "0            0           0            0                0   \n",
       "1            0           0            0                1   \n",
       "2            0           0            0                1   \n",
       "3            0           0            0                1   \n",
       "4            0           0            0                0   \n",
       "\n",
       "   domain_with_copyright  whois_registered_domain  domain_registration_length  \\\n",
       "0                      1                        0                          45   \n",
       "1                      0                        0                          77   \n",
       "2                      0                        0                          14   \n",
       "3                      0                        0                          62   \n",
       "4                      1                        0                         224   \n",
       "\n",
       "   domain_age  web_traffic  dns_record  google_index  page_rank      status  \n",
       "0          -1            0           1             1          4  legitimate  \n",
       "1        5767            0           0             1          2    phishing  \n",
       "2        4004      5828815           0             1          0    phishing  \n",
       "3          -1       107721           0             0          3  legitimate  \n",
       "4        8175         8725           0             0          6  legitimate  "
      ]
     },
     "execution_count": 54,
     "metadata": {},
     "output_type": "execute_result"
    }
   ],
   "source": [
    "pd.set_option('max_columns', None)\n",
    "dataset.head()"
   ]
  },
  {
   "cell_type": "code",
   "execution_count": 55,
   "metadata": {},
   "outputs": [
    {
     "data": {
      "text/plain": [
       "array(['url', 'ip', 'nb_www', 'nb_com', 'nb_dslash', 'http_in_path',\n",
       "       'punycode', 'port', 'tld_in_path', 'tld_in_subdomain',\n",
       "       'abnormal_subdomain', 'nb_subdomains', 'prefix_suffix',\n",
       "       'random_domain', 'shortening_service', 'path_extension',\n",
       "       'nb_redirection', 'nb_external_redirection', 'length_words_raw',\n",
       "       'char_repeat', 'shortest_words_raw', 'shortest_word_host',\n",
       "       'shortest_word_path', 'longest_words_raw', 'longest_word_host',\n",
       "       'longest_word_path', 'avg_words_raw', 'avg_word_host',\n",
       "       'avg_word_path', 'phish_hints', 'domain_in_brand',\n",
       "       'brand_in_subdomain', 'brand_in_path', 'suspecious_tld',\n",
       "       'statistical_report', 'nb_hyperlinks', 'ratio_intHyperlinks',\n",
       "       'ratio_extHyperlinks', 'ratio_nullHyperlinks', 'nb_extCSS',\n",
       "       'ratio_intRedirection', 'ratio_extRedirection', 'ratio_intErrors',\n",
       "       'ratio_extErrors', 'login_form', 'external_favicon',\n",
       "       'links_in_tags', 'submit_email', 'ratio_intMedia',\n",
       "       'ratio_extMedia', 'sfh', 'iframe', 'popup_window', 'safe_anchor',\n",
       "       'onmouseover', 'right_clic', 'empty_title', 'domain_in_title',\n",
       "       'domain_with_copyright', 'whois_registered_domain',\n",
       "       'domain_registration_length', 'domain_age', 'web_traffic',\n",
       "       'dns_record', 'google_index', 'page_rank', 'status'], dtype=object)"
      ]
     },
     "execution_count": 55,
     "metadata": {},
     "output_type": "execute_result"
    }
   ],
   "source": [
    "dataset.columns.values"
   ]
  },
  {
   "cell_type": "code",
   "execution_count": 56,
   "metadata": {},
   "outputs": [],
   "source": [
    "pd.reset_option('max_columns')"
   ]
  },
  {
   "cell_type": "markdown",
   "metadata": {},
   "source": [
    "Número de observaciones en la columna status"
   ]
  },
  {
   "cell_type": "code",
   "execution_count": 57,
   "metadata": {},
   "outputs": [
    {
     "data": {
      "text/plain": [
       "legitimate    5715\n",
       "phishing      5715\n",
       "Name: status, dtype: int64"
      ]
     },
     "execution_count": 57,
     "metadata": {},
     "output_type": "execute_result"
    }
   ],
   "source": [
    "dataset[\"status\"].value_counts()"
   ]
  },
  {
   "cell_type": "markdown",
   "metadata": {},
   "source": [
    "El dataset se encuentra balanceado en la columna objetivo (status)."
   ]
  },
  {
   "cell_type": "markdown",
   "metadata": {},
   "source": [
    "## Feature generation"
   ]
  },
  {
   "cell_type": "code",
   "execution_count": 58,
   "metadata": {},
   "outputs": [],
   "source": [
    "dataset['f1'] = dataset['url'].map(fu.f1) # Full URL length.\n",
    "dataset['f2'] = dataset['url'].map(fu.f2) # Hostname length.\n",
    "dataset['f4'] = dataset['url'].map(fu.f4) # Number of occurences of character '.' in URL.\n",
    "dataset['f5'] = dataset['url'].map(fu.f5) # Number of occurences of character '-' in URL.\n",
    "dataset['f6'] = dataset['url'].map(fu.f6) # Number of occurences of character '@' in URL.\n",
    "dataset['f7'] = dataset['url'].map(fu.f7) # Number of occurences of character '?' in URL.\n",
    "dataset['f8'] = dataset['url'].map(fu.f8) # Number of occurences of character '&' in URL.\n",
    "dataset['f9'] = dataset['url'].map(fu.f9) # Number of occurences of character '|' in URL.\n",
    "dataset['f10'] = dataset['url'].map(fu.f10) # Number of occurences of character '=' in URL.\n",
    "dataset['f11'] = dataset['url'].map(fu.f11) # Number of occurences of character '_' in URL.\n",
    "dataset['f12'] = dataset['url'].map(fu.f12) # Number of occurences of character '~' in URL.\n",
    "dataset['f13'] = dataset['url'].map(fu.f13) # Number of occurences of character '%' in URL.\n",
    "dataset['f14'] = dataset['url'].map(fu.f14) # Number of occurences of character '/' in URL.\n",
    "dataset['f15'] = dataset['url'].map(fu.f15) # Number of occurences of character '*' in URL.\n",
    "dataset['f16'] = dataset['url'].map(fu.f16) # Number of occurences of character ':' in URL.\n",
    "dataset['f17'] = dataset['url'].map(fu.f17) # Number of occurences of character ',' in URL.\n",
    "dataset['f18'] = dataset['url'].map(fu.f18) # Number of occurences of character ';' in URL.\n",
    "dataset['f19'] = dataset['url'].map(fu.f19) # Number of occurences of character '$' in URL.\n",
    "dataset['f20'] = dataset['url'].map(fu.f20) # Number of occurences of character '%20' or space in URL.\n",
    "dataset['f25'] = dataset['url'].map(fu.f25) # Checks for HTTPS token in URL.\n",
    "dataset['f26'] = dataset['url'].map(fu.f26) # Ratio of digits in full URL.\n",
    "dataset['f27'] = dataset['url'].map(fu.f27) # Ratio of digits in hostname."
   ]
  },
  {
   "cell_type": "code",
   "execution_count": 59,
   "metadata": {},
   "outputs": [
    {
     "data": {
      "text/html": [
       "<div>\n",
       "<style scoped>\n",
       "    .dataframe tbody tr th:only-of-type {\n",
       "        vertical-align: middle;\n",
       "    }\n",
       "\n",
       "    .dataframe tbody tr th {\n",
       "        vertical-align: top;\n",
       "    }\n",
       "\n",
       "    .dataframe thead th {\n",
       "        text-align: right;\n",
       "    }\n",
       "</style>\n",
       "<table border=\"1\" class=\"dataframe\">\n",
       "  <thead>\n",
       "    <tr style=\"text-align: right;\">\n",
       "      <th></th>\n",
       "      <th>url</th>\n",
       "      <th>ip</th>\n",
       "      <th>nb_www</th>\n",
       "      <th>nb_com</th>\n",
       "      <th>nb_dslash</th>\n",
       "      <th>http_in_path</th>\n",
       "      <th>punycode</th>\n",
       "      <th>port</th>\n",
       "      <th>tld_in_path</th>\n",
       "      <th>tld_in_subdomain</th>\n",
       "      <th>...</th>\n",
       "      <th>f14</th>\n",
       "      <th>f15</th>\n",
       "      <th>f16</th>\n",
       "      <th>f17</th>\n",
       "      <th>f18</th>\n",
       "      <th>f19</th>\n",
       "      <th>f20</th>\n",
       "      <th>f25</th>\n",
       "      <th>f26</th>\n",
       "      <th>f27</th>\n",
       "    </tr>\n",
       "  </thead>\n",
       "  <tbody>\n",
       "    <tr>\n",
       "      <th>0</th>\n",
       "      <td>http://www.crestonwood.com/router.php</td>\n",
       "      <td>0</td>\n",
       "      <td>1</td>\n",
       "      <td>0</td>\n",
       "      <td>0</td>\n",
       "      <td>0</td>\n",
       "      <td>0</td>\n",
       "      <td>0</td>\n",
       "      <td>0</td>\n",
       "      <td>0</td>\n",
       "      <td>...</td>\n",
       "      <td>3</td>\n",
       "      <td>0</td>\n",
       "      <td>1</td>\n",
       "      <td>0</td>\n",
       "      <td>0</td>\n",
       "      <td>0</td>\n",
       "      <td>0</td>\n",
       "      <td>False</td>\n",
       "      <td>0.000000</td>\n",
       "      <td>0.0</td>\n",
       "    </tr>\n",
       "    <tr>\n",
       "      <th>1</th>\n",
       "      <td>http://shadetreetechnology.com/V4/validation/a...</td>\n",
       "      <td>1</td>\n",
       "      <td>0</td>\n",
       "      <td>0</td>\n",
       "      <td>0</td>\n",
       "      <td>0</td>\n",
       "      <td>0</td>\n",
       "      <td>0</td>\n",
       "      <td>0</td>\n",
       "      <td>0</td>\n",
       "      <td>...</td>\n",
       "      <td>5</td>\n",
       "      <td>0</td>\n",
       "      <td>1</td>\n",
       "      <td>0</td>\n",
       "      <td>0</td>\n",
       "      <td>0</td>\n",
       "      <td>0</td>\n",
       "      <td>False</td>\n",
       "      <td>0.220779</td>\n",
       "      <td>0.0</td>\n",
       "    </tr>\n",
       "    <tr>\n",
       "      <th>2</th>\n",
       "      <td>https://support-appleld.com.secureupdate.duila...</td>\n",
       "      <td>1</td>\n",
       "      <td>0</td>\n",
       "      <td>1</td>\n",
       "      <td>0</td>\n",
       "      <td>0</td>\n",
       "      <td>0</td>\n",
       "      <td>0</td>\n",
       "      <td>0</td>\n",
       "      <td>1</td>\n",
       "      <td>...</td>\n",
       "      <td>5</td>\n",
       "      <td>0</td>\n",
       "      <td>1</td>\n",
       "      <td>0</td>\n",
       "      <td>0</td>\n",
       "      <td>0</td>\n",
       "      <td>0</td>\n",
       "      <td>True</td>\n",
       "      <td>0.150794</td>\n",
       "      <td>0.0</td>\n",
       "    </tr>\n",
       "    <tr>\n",
       "      <th>3</th>\n",
       "      <td>http://rgipt.ac.in</td>\n",
       "      <td>0</td>\n",
       "      <td>0</td>\n",
       "      <td>0</td>\n",
       "      <td>0</td>\n",
       "      <td>0</td>\n",
       "      <td>0</td>\n",
       "      <td>0</td>\n",
       "      <td>0</td>\n",
       "      <td>0</td>\n",
       "      <td>...</td>\n",
       "      <td>2</td>\n",
       "      <td>0</td>\n",
       "      <td>1</td>\n",
       "      <td>0</td>\n",
       "      <td>0</td>\n",
       "      <td>0</td>\n",
       "      <td>0</td>\n",
       "      <td>False</td>\n",
       "      <td>0.000000</td>\n",
       "      <td>0.0</td>\n",
       "    </tr>\n",
       "    <tr>\n",
       "      <th>4</th>\n",
       "      <td>http://www.iracing.com/tracks/gateway-motorspo...</td>\n",
       "      <td>0</td>\n",
       "      <td>1</td>\n",
       "      <td>0</td>\n",
       "      <td>0</td>\n",
       "      <td>0</td>\n",
       "      <td>0</td>\n",
       "      <td>0</td>\n",
       "      <td>0</td>\n",
       "      <td>0</td>\n",
       "      <td>...</td>\n",
       "      <td>5</td>\n",
       "      <td>0</td>\n",
       "      <td>1</td>\n",
       "      <td>0</td>\n",
       "      <td>0</td>\n",
       "      <td>0</td>\n",
       "      <td>0</td>\n",
       "      <td>False</td>\n",
       "      <td>0.000000</td>\n",
       "      <td>0.0</td>\n",
       "    </tr>\n",
       "  </tbody>\n",
       "</table>\n",
       "<p>5 rows × 89 columns</p>\n",
       "</div>"
      ],
      "text/plain": [
       "                                                 url  ip  nb_www  nb_com  \\\n",
       "0              http://www.crestonwood.com/router.php   0       1       0   \n",
       "1  http://shadetreetechnology.com/V4/validation/a...   1       0       0   \n",
       "2  https://support-appleld.com.secureupdate.duila...   1       0       1   \n",
       "3                                 http://rgipt.ac.in   0       0       0   \n",
       "4  http://www.iracing.com/tracks/gateway-motorspo...   0       1       0   \n",
       "\n",
       "   nb_dslash  http_in_path  punycode  port  tld_in_path  tld_in_subdomain  \\\n",
       "0          0             0         0     0            0                 0   \n",
       "1          0             0         0     0            0                 0   \n",
       "2          0             0         0     0            0                 1   \n",
       "3          0             0         0     0            0                 0   \n",
       "4          0             0         0     0            0                 0   \n",
       "\n",
       "   ...  f14  f15  f16  f17  f18  f19  f20    f25       f26  f27  \n",
       "0  ...    3    0    1    0    0    0    0  False  0.000000  0.0  \n",
       "1  ...    5    0    1    0    0    0    0  False  0.220779  0.0  \n",
       "2  ...    5    0    1    0    0    0    0   True  0.150794  0.0  \n",
       "3  ...    2    0    1    0    0    0    0  False  0.000000  0.0  \n",
       "4  ...    5    0    1    0    0    0    0  False  0.000000  0.0  \n",
       "\n",
       "[5 rows x 89 columns]"
      ]
     },
     "execution_count": 59,
     "metadata": {},
     "output_type": "execute_result"
    }
   ],
   "source": [
    "dataset.head()"
   ]
  },
  {
   "cell_type": "markdown",
   "metadata": {},
   "source": [
    "## Preprocesamiento\n",
    "Realice las modificaciones necesarias para convertir la variable categórica status a una variable\n",
    "binaria. Elimine la columna del dominio."
   ]
  },
  {
   "cell_type": "code",
   "execution_count": 60,
   "metadata": {},
   "outputs": [],
   "source": [
    "safe_copy = dataset.copy()"
   ]
  },
  {
   "cell_type": "code",
   "execution_count": 61,
   "metadata": {},
   "outputs": [
    {
     "data": {
      "text/plain": [
       "0        0\n",
       "1        1\n",
       "2        1\n",
       "3        0\n",
       "4        0\n",
       "        ..\n",
       "11425    0\n",
       "11426    1\n",
       "11427    0\n",
       "11428    0\n",
       "11429    1\n",
       "Name: status, Length: 11430, dtype: uint8"
      ]
     },
     "execution_count": 61,
     "metadata": {},
     "output_type": "execute_result"
    }
   ],
   "source": [
    "df_binary_status = pd.get_dummies(dataset[\"status\"])\n",
    "df_binary_status = df_binary_status.drop([\"legitimate\"], axis=1)\n",
    "dataset = dataset.drop([\"status\"], axis=1)\n",
    "dataset = pd.concat((dataset, df_binary_status), axis=1)\n",
    "dataset = dataset.rename(columns={\"phishing\": \"status\"})\n",
    "# Drop domain\n",
    "dataset[\"status\"]"
   ]
  },
  {
   "cell_type": "code",
   "execution_count": null,
   "metadata": {},
   "outputs": [],
   "source": [
    "dataset = dataset.drop([\"url\"], axis=1)"
   ]
  },
  {
   "cell_type": "markdown",
   "metadata": {},
   "source": [
    "Ahora status es un binario donde 1 representa que tiene phishing y 0 que es legitimo."
   ]
  },
  {
   "cell_type": "markdown",
   "metadata": {},
   "source": [
    "# Visualización de resultados\n",
    "\n",
    "Genere un reporte de perfil con la librería pandas_profiling. Analice el reporte y determine las\n",
    "columnas que son constantes, o que no tienen una varianza alta con la columna status. Almacene su\n",
    "reporte como una página html."
   ]
  },
  {
   "cell_type": "code",
   "execution_count": 62,
   "metadata": {},
   "outputs": [
    {
     "data": {
      "application/vnd.jupyter.widget-view+json": {
       "model_id": "3231685762414f9285ff2ccb0fdd1d88",
       "version_major": 2,
       "version_minor": 0
      },
      "text/plain": [
       "Summarize dataset:   0%|          | 0/101 [00:00<?, ?it/s]"
      ]
     },
     "metadata": {},
     "output_type": "display_data"
    },
    {
     "name": "stderr",
     "output_type": "stream",
     "text": [
      "/Users/augustoalonso/Library/Python/3.9/lib/python/site-packages/missingno/missingno.py:250: UserWarning: FixedFormatter should only be used together with FixedLocator\n",
      "  ax1.set_xticklabels(ax1.get_xticklabels(), rotation=45, ha='right', fontsize=fontsize)\n",
      "/Users/augustoalonso/Library/Python/3.9/lib/python/site-packages/pandas_profiling/model/summary.py:194: UserWarning: There was an attempt to generate the bar missing values diagrams, but this failed.\n",
      "    To hide this warning, disable the calculation\n",
      "    (using `df.profile_report(missing_diagrams={\"bar\": False}`)\n",
      "    If this is problematic for your use case, please report this as an issue:\n",
      "    https://github.com/pandas-profiling/pandas-profiling/issues\n",
      "    (include the error message: 'The number of FixedLocator locations (7), usually from a call to set_ticks, does not match the number of ticklabels (88).')\n",
      "  warnings.warn(\n"
     ]
    },
    {
     "data": {
      "application/vnd.jupyter.widget-view+json": {
       "model_id": "5db27f916125421987659add4b7dc27e",
       "version_major": 2,
       "version_minor": 0
      },
      "text/plain": [
       "Generate report structure:   0%|          | 0/1 [00:00<?, ?it/s]"
      ]
     },
     "metadata": {},
     "output_type": "display_data"
    },
    {
     "data": {
      "application/vnd.jupyter.widget-view+json": {
       "model_id": "a2a0262fab194ceb9454176cf9a2bf2b",
       "version_major": 2,
       "version_minor": 0
      },
      "text/plain": [
       "Render HTML:   0%|          | 0/1 [00:00<?, ?it/s]"
      ]
     },
     "metadata": {},
     "output_type": "display_data"
    },
    {
     "data": {
      "application/vnd.jupyter.widget-view+json": {
       "model_id": "5cbaaca8c1d14dafb5eebfeca1f14079",
       "version_major": 2,
       "version_minor": 0
      },
      "text/plain": [
       "Export report to file:   0%|          | 0/1 [00:00<?, ?it/s]"
      ]
     },
     "metadata": {},
     "output_type": "display_data"
    }
   ],
   "source": [
    "profile = ProfileReport(dataset, title=\"Phishing dataset after binary modification and features\")\n",
    "profile.to_file(\"status_binary_report.html\")"
   ]
  },
  {
   "cell_type": "code",
   "execution_count": 74,
   "metadata": {},
   "outputs": [
    {
     "name": "stdout",
     "output_type": "stream",
     "text": [
      "Columnas con correlación abs > 0.25\n",
      "Correlación entre status y  ip\n",
      "0.32169778238741015\n",
      "Correlación entre status y  nb_www\n",
      "-0.44346768751286336\n",
      "Correlación entre status y  phish_hints\n",
      "0.3353927377156515\n",
      "Correlación entre status y  nb_hyperlinks\n",
      "-0.3426282900378529\n",
      "Correlación entre status y  domain_in_title\n",
      "0.34280697299383556\n",
      "Correlación entre status y  domain_age\n",
      "-0.33188908389604205\n",
      "Correlación entre status y  google_index\n",
      "0.731170838126266\n",
      "Correlación entre status y  page_rank\n",
      "-0.5111371436645006\n",
      "Correlación entre status y  f7\n",
      "0.29431907084572934\n",
      "Correlación entre status y  f26\n",
      "0.3564210461092021\n"
     ]
    }
   ],
   "source": [
    "print(\"Columnas con correlación abs > 0.25\")\n",
    "correlation_columns = []\n",
    "no_correlation_columns = []\n",
    "for column in filter(lambda c: c != \"status\", dataset.columns):\n",
    "    corr = dataset['status'].corr(dataset[column])\n",
    "    if abs(abs(corr) > 0.25):\n",
    "        print(\"Correlación entre status y \", column)\n",
    "        print(corr)\n",
    "        correlation_columns.append(column)\n",
    "    else:\n",
    "        no_correlation_columns.append(column)"
   ]
  },
  {
   "cell_type": "code",
   "execution_count": 75,
   "metadata": {},
   "outputs": [
    {
     "name": "stdout",
     "output_type": "stream",
     "text": [
      "Variables con poca correlación\n",
      "nb_com\n",
      "nb_dslash\n",
      "http_in_path\n",
      "punycode\n",
      "port\n",
      "tld_in_path\n",
      "tld_in_subdomain\n",
      "abnormal_subdomain\n",
      "nb_subdomains\n",
      "prefix_suffix\n",
      "random_domain\n",
      "shortening_service\n",
      "path_extension\n",
      "nb_redirection\n",
      "nb_external_redirection\n",
      "length_words_raw\n",
      "char_repeat\n",
      "shortest_words_raw\n",
      "shortest_word_host\n",
      "shortest_word_path\n",
      "longest_words_raw\n",
      "longest_word_host\n",
      "longest_word_path\n",
      "avg_words_raw\n",
      "avg_word_host\n",
      "avg_word_path\n",
      "domain_in_brand\n",
      "brand_in_subdomain\n",
      "brand_in_path\n",
      "suspecious_tld\n",
      "statistical_report\n",
      "ratio_intHyperlinks\n",
      "ratio_extHyperlinks\n",
      "ratio_nullHyperlinks\n",
      "nb_extCSS\n",
      "ratio_intRedirection\n",
      "ratio_extRedirection\n",
      "ratio_intErrors\n",
      "ratio_extErrors\n",
      "login_form\n",
      "external_favicon\n",
      "links_in_tags\n",
      "submit_email\n",
      "ratio_intMedia\n",
      "ratio_extMedia\n",
      "sfh\n",
      "iframe\n",
      "popup_window\n",
      "safe_anchor\n",
      "onmouseover\n",
      "right_clic\n",
      "empty_title\n",
      "domain_with_copyright\n",
      "whois_registered_domain\n",
      "domain_registration_length\n",
      "web_traffic\n",
      "dns_record\n",
      "f1\n",
      "f2\n",
      "f4\n",
      "f5\n",
      "f6\n",
      "f8\n",
      "f9\n",
      "f10\n",
      "f11\n",
      "f12\n",
      "f13\n",
      "f14\n",
      "f15\n",
      "f16\n",
      "f17\n",
      "f18\n",
      "f19\n",
      "f20\n",
      "f25\n",
      "f27\n"
     ]
    }
   ],
   "source": [
    "print(\"Variables con poca correlación\")\n",
    "for c in no_correlation_columns:\n",
    "    print(c)"
   ]
  },
  {
   "cell_type": "markdown",
   "metadata": {},
   "source": [
    "Para facilitar el analisis realizaremos un nuevo pandas profiles únicamente con las variables que tienen correlación esto con el motivo de poder examinar mas fácilmente dentro de estas cuales podrían tener correlación entre ellas y evitar sesgo. También poder revisar cuales son constantes."
   ]
  },
  {
   "cell_type": "code",
   "execution_count": 76,
   "metadata": {},
   "outputs": [],
   "source": [
    "# Create the dataset to feed the final profiles only with the correlation columns\n",
    "final_dataset = dataset.drop(no_correlation_columns, axis=1)"
   ]
  },
  {
   "cell_type": "code",
   "execution_count": 77,
   "metadata": {},
   "outputs": [
    {
     "data": {
      "application/vnd.jupyter.widget-view+json": {
       "model_id": "198c3d4e07cb4c5db2ec55cf5da900f4",
       "version_major": 2,
       "version_minor": 0
      },
      "text/plain": [
       "Summarize dataset:   0%|          | 0/24 [00:00<?, ?it/s]"
      ]
     },
     "metadata": {},
     "output_type": "display_data"
    },
    {
     "data": {
      "application/vnd.jupyter.widget-view+json": {
       "model_id": "26bfa3c24aa647f09b3a7b7bd35d669f",
       "version_major": 2,
       "version_minor": 0
      },
      "text/plain": [
       "Generate report structure:   0%|          | 0/1 [00:00<?, ?it/s]"
      ]
     },
     "metadata": {},
     "output_type": "display_data"
    },
    {
     "data": {
      "application/vnd.jupyter.widget-view+json": {
       "model_id": "3c06b76e5db34b7f8d6ebd415603d3b6",
       "version_major": 2,
       "version_minor": 0
      },
      "text/plain": [
       "Render HTML:   0%|          | 0/1 [00:00<?, ?it/s]"
      ]
     },
     "metadata": {},
     "output_type": "display_data"
    },
    {
     "data": {
      "application/vnd.jupyter.widget-view+json": {
       "model_id": "43e464b71a3d48b5a1fb6e25d8ef9ee3",
       "version_major": 2,
       "version_minor": 0
      },
      "text/plain": [
       "Export report to file:   0%|          | 0/1 [00:00<?, ?it/s]"
      ]
     },
     "metadata": {},
     "output_type": "display_data"
    }
   ],
   "source": [
    "final_profile = ProfileReport(final_dataset, title=\"Final Phishing profiler (only correlation columns)\")\n",
    "final_profile.to_file(\"final_report.html\")"
   ]
  },
  {
   "cell_type": "markdown",
   "metadata": {},
   "source": [
    "### Resultados profiling\n",
    "Debido a que cargar el pandas profiling es relativamente pesado para el navegador causando que crashee y las correlaciones salen en un reporte muy pequeño de leer creamos la correlación de status con todas las columnas a mano\n",
    "\n",
    "#### Variables que tienen correlación con status\n",
    "Consideramos como variables con correlación únicamente las variables que su valor absoluto superara 0.25\n",
    "\n",
    "<b>Variables con correlación positiva</b>\n",
    "\n",
    "- ip : 0.32169778238741015\n",
    "- phish_hints : 0.3353927377156515\n",
    "- domain_in_title : 0.34280697299383556\n",
    "- google_index : 0.731170838126266\n",
    "- f7 : 0.29431907084572934\n",
    "- f26 : 0.3564210461092021\n",
    "\n",
    "\n",
    "<b>Variables con correlación negativa</b>\n",
    "\n",
    "- nb_www: -0.44346768751286336\n",
    "- nb_hyperlinks: -0.3426282900378529\n",
    "- domain_age: -0.33188908389604205\n",
    "- page_rank: -0.5111371436645006\n",
    "\n",
    "\n",
    "#### Variables no tienen mayor correlación con status\n",
    "\n",
    "Notamos que la mayoria de variables no tienen correlación con el status por lo cual lo vamos a descartar para nuestro modelo.\n",
    "\n",
    "#### Variables con correlación entre variables\n",
    "Todas estas correlaciones fueron tomadas del `final_report.html`\n",
    "\n",
    "Entre ip y f26 se noto una correlación positiva significativa dentro de nuestro `final_report.html` notamos que era una corr > a .7\n",
    "\n",
    "Entre nb_www y google_index se noto una correlación negativa relativamente fuerte el valor aproximado que se le asigna es de -0.3\n",
    "\n",
    "Entre phish_hints y google_index se noto una correlación positiva relativamente fuerte el valor aproximado que se le asigna es de 0.35\n",
    "\n",
    "Entre domain_age y page_rank se noto una correlación fuerte el valor aproximado que se le asigna es de 0.6\n",
    "\n",
    "Debido a estas correlaciones se excluiran las variables ip y domain_age\n",
    "\n",
    "#### Variables constantes\n",
    "\n",
    "No encontramos variables constantes en `final_report.html`"
   ]
  },
  {
   "cell_type": "code",
   "execution_count": 94,
   "metadata": {},
   "outputs": [
    {
     "data": {
      "text/plain": [
       "['nb_www',\n",
       " 'phish_hints',\n",
       " 'nb_hyperlinks',\n",
       " 'domain_in_title',\n",
       " 'google_index',\n",
       " 'page_rank',\n",
       " 'f7',\n",
       " 'f26']"
      ]
     },
     "execution_count": 94,
     "metadata": {},
     "output_type": "execute_result"
    }
   ],
   "source": [
    "filter_final_columns = filter(lambda x: x != \"ip\" and x != \"domain_age\" and x != \"status\", correlation_columns)\n",
    "list(filter_final_columns)"
   ]
  },
  {
   "cell_type": "code",
   "execution_count": 109,
   "metadata": {},
   "outputs": [],
   "source": [
    "# Create the dataset to feed the final profiles only with the correlation columns\n",
    "final_dataset_model = final_dataset.drop([\"status\", \"ip\", \"domain_age\"], axis=1)\n"
   ]
  },
  {
   "cell_type": "code",
   "execution_count": 110,
   "metadata": {},
   "outputs": [
    {
     "data": {
      "text/plain": [
       "Index(['nb_www', 'phish_hints', 'nb_hyperlinks', 'domain_in_title',\n",
       "       'google_index', 'page_rank', 'f7', 'f26'],\n",
       "      dtype='object')"
      ]
     },
     "execution_count": 110,
     "metadata": {},
     "output_type": "execute_result"
    }
   ],
   "source": [
    "final_dataset_model.columns"
   ]
  },
  {
   "cell_type": "markdown",
   "metadata": {},
   "source": [
    "# Modelo\n",
    "\n",
    "## Separación train y test set"
   ]
  },
  {
   "cell_type": "code",
   "execution_count": 111,
   "metadata": {},
   "outputs": [],
   "source": [
    "y = final_dataset[\"status\"]\n",
    "X = final_dataset_model"
   ]
  },
  {
   "cell_type": "code",
   "execution_count": 140,
   "metadata": {},
   "outputs": [],
   "source": [
    "# X_train_beta, X_test, y_train_beta, y_test = train_test_split(X, y, test_size=0.3, random_state=42)\n",
    "X_train, X_test, y_train, y_test = train_test_split(X, y, test_size=0.3, random_state=42)"
   ]
  },
  {
   "cell_type": "code",
   "execution_count": 114,
   "metadata": {},
   "outputs": [],
   "source": [
    "# validation_rate = 15/70\n",
    "# X_train, X_validation, y_train, y_validation = train_test_split(X_train_beta, y_train_beta, test_size=validation_rate, random_state=42)"
   ]
  },
  {
   "cell_type": "code",
   "execution_count": 141,
   "metadata": {},
   "outputs": [],
   "source": [
    "def store_df(name, X, y):\n",
    "    compression_opts = dict(method='zip',\n",
    "                            archive_name=name+'_X.csv')  \n",
    "    X.to_csv(name+'_X.zip', index=True,\n",
    "              compression=compression_opts)  \n",
    "    compression_opts = dict(method='zip',\n",
    "                            archive_name=name+'_y.csv')  \n",
    "    y.to_csv(name+'_y.zip', index=True,\n",
    "              compression=compression_opts)  "
   ]
  },
  {
   "cell_type": "code",
   "execution_count": 142,
   "metadata": {},
   "outputs": [],
   "source": [
    "store_df(\"test_values\", X_test, y_test)\n",
    "store_df(\"train_values\", X_train, y_train)\n",
    "# store_df(\"validate_values\", X_validation, y_validation)"
   ]
  },
  {
   "cell_type": "markdown",
   "metadata": {},
   "source": [
    "## Creación del modelo"
   ]
  },
  {
   "cell_type": "code",
   "execution_count": 143,
   "metadata": {},
   "outputs": [],
   "source": [
    "rf = RandomForestClassifier(n_estimators = 1000, random_state = 42)"
   ]
  },
  {
   "cell_type": "code",
   "execution_count": 144,
   "metadata": {},
   "outputs": [
    {
     "data": {
      "text/plain": [
       "RandomForestClassifier(n_estimators=1000, random_state=42)"
      ]
     },
     "execution_count": 144,
     "metadata": {},
     "output_type": "execute_result"
    }
   ],
   "source": [
    "# Entrenamos el modelo\n",
    "rf.fit(X_train, y_train)"
   ]
  },
  {
   "cell_type": "code",
   "execution_count": 145,
   "metadata": {},
   "outputs": [],
   "source": [
    "# Realizamos predicciones\n",
    "predictions = rf.predict(X_test)"
   ]
  },
  {
   "cell_type": "code",
   "execution_count": 149,
   "metadata": {},
   "outputs": [
    {
     "data": {
      "text/plain": [
       "(3429,)"
      ]
     },
     "execution_count": 149,
     "metadata": {},
     "output_type": "execute_result"
    }
   ],
   "source": [
    "y_test.shape"
   ]
  },
  {
   "cell_type": "code",
   "execution_count": 147,
   "metadata": {},
   "outputs": [
    {
     "data": {
      "text/plain": [
       "(3429,)"
      ]
     },
     "execution_count": 147,
     "metadata": {},
     "output_type": "execute_result"
    }
   ],
   "source": [
    "predictions.shape"
   ]
  },
  {
   "cell_type": "code",
   "execution_count": 150,
   "metadata": {},
   "outputs": [],
   "source": [
    "confusion_matrix = confusion_matrix(y_test, predictions)\n",
    "recall_score = recall_score(y_test, predictions, average=None)\n",
    "precision_score = precision_score(y_test, predictions, average=None)\n",
    "f1_score = f1_score(y_test, predictions, average=None)"
   ]
  },
  {
   "cell_type": "code",
   "execution_count": 151,
   "metadata": {},
   "outputs": [
    {
     "name": "stdout",
     "output_type": "stream",
     "text": [
      "Matrix de confusión\n"
     ]
    },
    {
     "data": {
      "text/plain": [
       "array([[1629,  103],\n",
       "       [  86, 1611]])"
      ]
     },
     "execution_count": 151,
     "metadata": {},
     "output_type": "execute_result"
    }
   ],
   "source": [
    "print(\"Matrix de confusión\")\n",
    "confusion_matrix"
   ]
  },
  {
   "cell_type": "code",
   "execution_count": 152,
   "metadata": {},
   "outputs": [
    {
     "name": "stdout",
     "output_type": "stream",
     "text": [
      "recall_score\n"
     ]
    },
    {
     "data": {
      "text/plain": [
       "array([0.94053118, 0.94932233])"
      ]
     },
     "execution_count": 152,
     "metadata": {},
     "output_type": "execute_result"
    }
   ],
   "source": [
    "print(\"recall_score\")\n",
    "recall_score"
   ]
  },
  {
   "cell_type": "code",
   "execution_count": 153,
   "metadata": {},
   "outputs": [
    {
     "name": "stdout",
     "output_type": "stream",
     "text": [
      "precision_score\n"
     ]
    },
    {
     "data": {
      "text/plain": [
       "array([0.94985423, 0.93990665])"
      ]
     },
     "execution_count": 153,
     "metadata": {},
     "output_type": "execute_result"
    }
   ],
   "source": [
    "print(\"precision_score\")\n",
    "precision_score"
   ]
  },
  {
   "cell_type": "code",
   "execution_count": 154,
   "metadata": {},
   "outputs": [
    {
     "name": "stdout",
     "output_type": "stream",
     "text": [
      "f1_score\n"
     ]
    },
    {
     "data": {
      "text/plain": [
       "array([0.94516971, 0.94459103])"
      ]
     },
     "execution_count": 154,
     "metadata": {},
     "output_type": "execute_result"
    }
   ],
   "source": [
    "print(\"f1_score\")\n",
    "f1_score"
   ]
  },
  {
   "cell_type": "markdown",
   "metadata": {},
   "source": [
    "# PREGUNTAS\n",
    "\n",
    "1. `¿Cuál es el impacto de clasificar un sitio legítimo como Pishing?`\n",
    "* El impacto es mínimo, puesto que lo peor que pasa es que el usuario no puede acceder con facilidad al sitio.\n",
    "\n",
    "2. `¿Cuál es el impacto de clasificar un sitio de Pishing como legítimo?`\n",
    "* Esto puede llegar a tener un impacto importante, puesto que puede causar que el personal de una organización ingrese a un sitio con phishing y vulnerar la seguridad de toda la organización.\n",
    "\n",
    "3. `En base a las respuestas anteriores, ¿Qué métrica elegiría para comparar modelos similares de clasificación de pishing?`\n",
    "* Consideramos que el recall es la mejor métrica para este problema, puesto que nos indica la habilidad del modelo de encontrar los positivos.\n",
    "\n",
    "4. `¿Es necesaria la intervención de una persona humana en la decisión final de clasificación?`\n",
    "* Sería imposible, debido a la corta vida de las páginas de phishing y a la enorme cantidad de variables que se deben de tomar en consideración para tomar una decisión acertada. En lo único en lo que podría intervenir una persona es en detectar cuando el modelo idenficó mal a un sitio y habilitarlo manualmente."
   ]
  },
  {
   "cell_type": "markdown",
   "metadata": {},
   "source": []
  }
 ],
 "metadata": {
  "interpreter": {
   "hash": "8c174520038b808b4a6457a06c4b260df0003f02f67044f98e74990242b935b4"
  },
  "kernelspec": {
   "display_name": "Python 3 (ipykernel)",
   "language": "python",
   "name": "python3"
  },
  "language_info": {
   "codemirror_mode": {
    "name": "ipython",
    "version": 3
   },
   "file_extension": ".py",
   "mimetype": "text/x-python",
   "name": "python",
   "nbconvert_exporter": "python",
   "pygments_lexer": "ipython3",
   "version": "3.7.12"
  }
 },
 "nbformat": 4,
 "nbformat_minor": 2
}
